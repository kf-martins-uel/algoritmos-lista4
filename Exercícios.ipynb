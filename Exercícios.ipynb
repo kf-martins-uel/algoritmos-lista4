{
 "cells": [
  {
   "cell_type": "markdown",
   "id": "1dd54c14",
   "metadata": {},
   "source": [
    "### Exercício 1\n"
   ]
  },
  {
   "cell_type": "code",
   "execution_count": 2,
   "id": "84c31695",
   "metadata": {},
   "outputs": [
    {
     "name": "stdout",
     "output_type": "stream",
     "text": [
      "Tangamandapio\n",
      "oipadnamagnaT\n"
     ]
    }
   ],
   "source": [
    "s =  input()\n",
    "print(s)\n",
    "print(s[::-1])"
   ]
  },
  {
   "cell_type": "markdown",
   "id": "ebb104f9",
   "metadata": {},
   "source": [
    "### Exercício 2"
   ]
  },
  {
   "cell_type": "code",
   "execution_count": 13,
   "id": "2452acac",
   "metadata": {},
   "outputs": [
    {
     "name": "stdout",
     "output_type": "stream",
     "text": [
      "Outofthenightthatcoversme\n"
     ]
    }
   ],
   "source": [
    "s = input()\n",
    "print(s.replace(' ', ''))"
   ]
  },
  {
   "cell_type": "markdown",
   "id": "abc874b1",
   "metadata": {},
   "source": [
    "### Exercício 3"
   ]
  },
  {
   "cell_type": "code",
   "execution_count": 20,
   "id": "9edc84c1",
   "metadata": {},
   "outputs": [
    {
     "name": "stdout",
     "output_type": "stream",
     "text": [
      "Out of the night that covers me\n"
     ]
    }
   ],
   "source": [
    "s = input().split()\n",
    "print(' '.join(s))\n"
   ]
  },
  {
   "cell_type": "markdown",
   "id": "e5b38b6c",
   "metadata": {},
   "source": [
    "### Exercício 4\n"
   ]
  },
  {
   "cell_type": "code",
   "execution_count": 26,
   "id": "814efa73",
   "metadata": {},
   "outputs": [
    {
     "name": "stdout",
     "output_type": "stream",
     "text": [
      "ESI\n"
     ]
    }
   ],
   "source": [
    "s1, s2 = input(), input()\n",
    "for c in s1:\n",
    "    if c in s2:\n",
    "        s2 = s2.replace(c, '')\n",
    "\n",
    "print(s2)"
   ]
  },
  {
   "cell_type": "markdown",
   "id": "1d9b34e2",
   "metadata": {},
   "source": [
    "### Exercício 5\n"
   ]
  },
  {
   "cell_type": "code",
   "execution_count": 51,
   "id": "8fdd99ab",
   "metadata": {},
   "outputs": [
    {
     "name": "stdout",
     "output_type": "stream",
     "text": [
      "moda é substring de moradia\n"
     ]
    }
   ],
   "source": [
    "s1, s2 = input(), input()\n",
    "subs = 0\n",
    "for c2 in s2:\n",
    "    if subs < len(s1) and s1[subs] == c2:\n",
    "            subs+=1\n",
    "if subs == len(s1):\n",
    "    print(f'{s1} é substring de {s2}')\n",
    "else:\n",
    "    print(f'{s1} não é substring de {s2}')  \n"
   ]
  },
  {
   "cell_type": "markdown",
   "id": "62fd5c44",
   "metadata": {},
   "source": [
    "### Exercício 6\n"
   ]
  },
  {
   "cell_type": "code",
   "execution_count": null,
   "id": "f8ef66f5",
   "metadata": {},
   "outputs": [
    {
     "name": "stdout",
     "output_type": "stream",
     "text": [
      "Não são anagramas!\n"
     ]
    }
   ],
   "source": [
    "def isAnagram(s1, s2) -> bool:\n",
    "    if len(s2) != len(s1):\n",
    "        return False\n",
    "    s1_count = {}\n",
    "    s2_count = {}\n",
    "    for c1 in s1:\n",
    "        s1_count[c1] = s1_count.get(c1, 0)+1\n",
    "    for c2 in s2:\n",
    "        s2_count[c2] = s2_count.get(c2, 0)+1\n",
    "    return s1_count == s2_count\n",
    "\n",
    "s1, s2 = input(), input()\n",
    "print('Anagramas!' if isAnagram(s1, s2) else 'Não são anagramas!')"
   ]
  },
  {
   "cell_type": "markdown",
   "id": "a5da35f6",
   "metadata": {},
   "source": [
    "### Exercício 7\n",
    "\n",
    "a) Determine quais são as variáveis locais e globais deste programa. Para cada variável local \n",
    "identifique a que função ela pertence.\n",
    "- A variável _j_ é global \n",
    "- função *main()*:\n",
    "    - variável *a* é local na função *main*\n",
    "    - variável *i* é local no *for* dentro do *main*\n",
    "    - variável *j* é local no *for* que está dentro de outro *for* em *main* .\n",
    "- função *fun1(a, b)*:\n",
    "    - variáveis *a* e *b* são locais dentro de *fun1*\n",
    "    - variável *p* é local em *fun1*\n",
    "    - variável *i* é local no *for* dentro de *fun1*  \n",
    "\n",
    "b) Mostre o que será impresso na tela do computador quando for executado este pro- \n",
    "grama.\n",
    "- fun1(a, b):\n",
    "    - Múltiplica 1 por *a*, *b* vezes e soma com *j* que é 1.\n",
    "- main():\n",
    "    - a = 9, se *a* é par, a = 2, caso contrário, a = 3. Logo *a* = 3.\n",
    "    - print(fun1(2, 4)) - 17 - (1*2*2*2*2 + 1)\n",
    "    - for i in range 3 e for j in range 3:\n",
    "        - print(fun1(a, i+j)):\n",
    "            - a sempre é 3. j na fun1 sempre é 1.\n",
    "            - imprimir: multiplicação de 1 por 3 *i+j* vezes. \n",
    "                - 0 + 0 = 0 -> não será multiplicado (range(0) não roda -> p+j - 1+1 = 2\n",
    "                - 0 + 1 = 1 -> 1 -> 1*3 + 1 = 4\n",
    "                - 0 + 2 = 2 -> 1*3*3 + 1 = 10\n",
    "                - 1 + 0 = 1 -> 4\n",
    "                - 1 + 1 = 2 -> 10\n",
    "                - 1 + 2 = 3 -> 1*3*3*3 + 1 = 28\n",
    "                - 2 + 0 = 2 -> 10\n",
    "                - 2 + 1 = 3 -> 28\n",
    "                - 2 + 2 = 4 -> 1*3*3*3*3 + 1 = 82\n",
    "- Saíde esperada:\n",
    "    ```plaintext\n",
    "    17\n",
    "    2\n",
    "    4\n",
    "    10\n",
    "    4\n",
    "    10\n",
    "    28\n",
    "    10\n",
    "    28\n",
    "    82\n",
    "    ```"
   ]
  },
  {
   "cell_type": "markdown",
   "id": "8e6535fb",
   "metadata": {},
   "source": [
    "### Exercício 8\n"
   ]
  },
  {
   "cell_type": "code",
   "execution_count": null,
   "id": "08962175",
   "metadata": {},
   "outputs": [],
   "source": [
    "# Seu código aqui"
   ]
  },
  {
   "cell_type": "markdown",
   "id": "fc377de6",
   "metadata": {},
   "source": [
    "### Exercício 9\n"
   ]
  },
  {
   "cell_type": "code",
   "execution_count": null,
   "id": "ba2022e1",
   "metadata": {},
   "outputs": [],
   "source": [
    "# Seu código aqui"
   ]
  },
  {
   "cell_type": "markdown",
   "id": "7b4a3417",
   "metadata": {},
   "source": [
    "### Exercício 10\n"
   ]
  },
  {
   "cell_type": "code",
   "execution_count": null,
   "id": "4927e954",
   "metadata": {},
   "outputs": [],
   "source": [
    "# Seu código aqui"
   ]
  },
  {
   "cell_type": "markdown",
   "id": "a9a52381",
   "metadata": {},
   "source": [
    "### Exercício 11\n"
   ]
  },
  {
   "cell_type": "code",
   "execution_count": null,
   "id": "be3d7844",
   "metadata": {},
   "outputs": [],
   "source": [
    "# Seu código aqui"
   ]
  },
  {
   "cell_type": "markdown",
   "id": "511f7420",
   "metadata": {},
   "source": [
    "### Exercício 12\n"
   ]
  },
  {
   "cell_type": "code",
   "execution_count": null,
   "id": "b91cbe93",
   "metadata": {},
   "outputs": [],
   "source": [
    "# Seu código aqui"
   ]
  },
  {
   "cell_type": "markdown",
   "id": "0a0535c7",
   "metadata": {},
   "source": [
    "### Exercício 13\n"
   ]
  },
  {
   "cell_type": "code",
   "execution_count": null,
   "id": "cba10fa9",
   "metadata": {},
   "outputs": [],
   "source": [
    "# Seu código aqui"
   ]
  },
  {
   "cell_type": "markdown",
   "id": "9c4e32ae",
   "metadata": {},
   "source": [
    "### Exercício 14\n"
   ]
  },
  {
   "cell_type": "code",
   "execution_count": null,
   "id": "68a013ab",
   "metadata": {},
   "outputs": [],
   "source": [
    "# Seu código aqui"
   ]
  },
  {
   "cell_type": "markdown",
   "id": "2da1dec2",
   "metadata": {},
   "source": [
    "### Exercício 15\n"
   ]
  },
  {
   "cell_type": "code",
   "execution_count": null,
   "id": "a88242e8",
   "metadata": {},
   "outputs": [],
   "source": [
    "# Seu código aqui"
   ]
  },
  {
   "cell_type": "markdown",
   "id": "a8c1b235",
   "metadata": {},
   "source": [
    "### Exercício 16\n"
   ]
  },
  {
   "cell_type": "code",
   "execution_count": null,
   "id": "35a8af2e",
   "metadata": {},
   "outputs": [],
   "source": [
    "# Seu código aqui"
   ]
  }
 ],
 "metadata": {
  "kernelspec": {
   "display_name": "Python 3",
   "language": "python",
   "name": "python3"
  },
  "language_info": {
   "codemirror_mode": {
    "name": "ipython",
    "version": 3
   },
   "file_extension": ".py",
   "mimetype": "text/x-python",
   "name": "python",
   "nbconvert_exporter": "python",
   "pygments_lexer": "ipython3",
   "version": "3.12.10"
  }
 },
 "nbformat": 4,
 "nbformat_minor": 5
}
